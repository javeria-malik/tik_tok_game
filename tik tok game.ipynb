{
 "cells": [
  {
   "cell_type": "code",
   "execution_count": 2,
   "id": "1c275e41",
   "metadata": {},
   "outputs": [
    {
     "name": "stdout",
     "output_type": "stream",
     "text": [
      "Welcome to TikTok Challenge Game!\n",
      "Choose a challenge to complete:\n",
      "1. Show your best dance move in 10 seconds!\n",
      "2. Sing a song in 15 seconds!\n",
      "3. Tell a joke in 20 seconds!\n",
      "4. Show your pet doing something cute in 10 seconds!\n",
      "Enter the challenge number (or 'q' to quit): why orange call orange\n",
      "Invalid input. Please enter a valid challenge number or 'q' to quit.\n",
      "Welcome to TikTok Challenge Game!\n",
      "Choose a challenge to complete:\n",
      "1. Show your best dance move in 10 seconds!\n",
      "2. Sing a song in 15 seconds!\n",
      "3. Tell a joke in 20 seconds!\n",
      "4. Show your pet doing something cute in 10 seconds!\n",
      "Enter the challenge number (or 'q' to quit): 3\n",
      "Challenge: Tell a joke in 20 seconds!\n",
      "Press Enter to start recording...orange color is red\n",
      "Challenge completed! You're TikTok famous!\n",
      "Welcome to TikTok Challenge Game!\n",
      "Choose a challenge to complete:\n",
      "1. Show your best dance move in 10 seconds!\n",
      "2. Sing a song in 15 seconds!\n",
      "3. Tell a joke in 20 seconds!\n",
      "4. Show your pet doing something cute in 10 seconds!\n",
      "Enter the challenge number (or 'q' to quit): q\n",
      "Thanks for playing!\n"
     ]
    }
   ],
   "source": [
    "import time\n",
    "\n",
    "# Define a list of challenges\n",
    "challenges = [\n",
    "    \"Show your best dance move in 10 seconds!\",\n",
    "    \"Sing a song in 15 seconds!\",\n",
    "    \"Tell a joke in 20 seconds!\",\n",
    "    \"Show your pet doing something cute in 10 seconds!\",\n",
    "]\n",
    "\n",
    "# Function to perform a challenge\n",
    "def perform_challenge(challenge, time_limit):\n",
    "    print(f\"Challenge: {challenge}\")\n",
    "    start_time = time.time()\n",
    "    user_input = input(\"Press Enter to start recording...\")\n",
    "    elapsed_time = time.time() - start_time\n",
    "\n",
    "    if elapsed_time <= time_limit:\n",
    "        print(\"Challenge completed! You're TikTok famous!\")\n",
    "    else:\n",
    "        print(\"Time's up! Try again next time.\")\n",
    "\n",
    "# Main game loop\n",
    "while True:\n",
    "    print(\"Welcome to TikTok Challenge Game!\")\n",
    "    print(\"Choose a challenge to complete:\")\n",
    "    for i, challenge in enumerate(challenges, start=1):\n",
    "        print(f\"{i}. {challenge}\")\n",
    "\n",
    "    choice = input(\"Enter the challenge number (or 'q' to quit): \")\n",
    "\n",
    "    if choice == 'q':\n",
    "        print(\"Thanks for playing!\")\n",
    "        break\n",
    "\n",
    "    try:\n",
    "        choice = int(choice)\n",
    "        if 1 <= choice <= len(challenges):\n",
    "            challenge = challenges[choice - 1]\n",
    "            time_limit = len(challenge) * 2  # Adjust time limit based on challenge length\n",
    "            perform_challenge(challenge, time_limit)\n",
    "        else:\n",
    "            print(\"Invalid choice. Please enter a valid challenge number.\")\n",
    "    except ValueError:\n",
    "        print(\"Invalid input. Please enter a valid challenge number or 'q' to quit.\")\n"
   ]
  },
  {
   "cell_type": "code",
   "execution_count": null,
   "id": "fa3b3188",
   "metadata": {},
   "outputs": [],
   "source": []
  }
 ],
 "metadata": {
  "kernelspec": {
   "display_name": "Python 3 (ipykernel)",
   "language": "python",
   "name": "python3"
  },
  "language_info": {
   "codemirror_mode": {
    "name": "ipython",
    "version": 3
   },
   "file_extension": ".py",
   "mimetype": "text/x-python",
   "name": "python",
   "nbconvert_exporter": "python",
   "pygments_lexer": "ipython3",
   "version": "3.11.4"
  }
 },
 "nbformat": 4,
 "nbformat_minor": 5
}
